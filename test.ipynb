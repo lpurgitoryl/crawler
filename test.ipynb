{
 "cells": [
  {
   "cell_type": "code",
   "execution_count": 13,
   "metadata": {},
   "outputs": [],
   "source": [
    "# DOCS\n",
    "# https://praw.readthedocs.io/en/stable/getting_started/quick_start.html#submission-iteration\n",
    "# https://praw.readthedocs.io/en/stable/tutorials/comments.html\n",
    "# https://stackoverflow.com/questions/4041238/why-use-def-main\n",
    "# https://towardsdatascience.com/scraping-reddit-data-1c0af3040768\n",
    "# https://stackoverflow.com/questions/30734682/extracting-url-and-anchor-text-from-markdown-using-python\n",
    "\n",
    "import praw\n",
    "import pandas as pd\n",
    "\n",
    "# To create a read-only Reddit instance, you need three pieces of information:\n",
    "# Client ID\n",
    "# Client secret\n",
    "# User agent\n",
    "\n",
    "reddit = praw.Reddit(client_id=\"3IS_PPpIX3IkVIh-1f8cHQ\",\n",
    "client_secret=\"AvAKHMywUgLyGlVSVD0bQMRpZbhb1w\",\n",
    "user_agent =\"crawler/scrapper\")\n",
    "\n",
    "\n",
    "url = \"https://www.reddit.com/r/funny/comments/3g1jfi/buttons/\"\n",
    "submission = reddit.submission(url=url)\n",
    "\n",
    "posts = []\n",
    "\n",
    "ml_subreddit = reddit.subreddit('MachineLearning')\n",
    "for post in ml_subreddit.hot(limit=10):\n",
    "    posts.append([post.title, post.score, post.id, post.url, post.num_comments, post.selftext, post.created])\n"
   ]
  },
  {
   "cell_type": "code",
   "execution_count": 17,
   "metadata": {},
   "outputs": [],
   "source": [
    "df = pd.DataFrame(posts, columns=['title', 'score', 'id', 'url', 'num_comments', 'body', 'created'])"
   ]
  }
 ],
 "metadata": {
  "kernelspec": {
   "display_name": "crawler",
   "language": "python",
   "name": "python3"
  },
  "language_info": {
   "codemirror_mode": {
    "name": "ipython",
    "version": 3
   },
   "file_extension": ".py",
   "mimetype": "text/x-python",
   "name": "python",
   "nbconvert_exporter": "python",
   "pygments_lexer": "ipython3",
   "version": "3.11.3"
  },
  "orig_nbformat": 4
 },
 "nbformat": 4,
 "nbformat_minor": 2
}
